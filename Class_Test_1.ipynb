{
  "nbformat": 4,
  "nbformat_minor": 0,
  "metadata": {
    "colab": {
      "provenance": [],
      "authorship_tag": "ABX9TyMR2Coa32U7MnQf7qQnaEDl",
      "include_colab_link": true
    },
    "kernelspec": {
      "name": "python3",
      "display_name": "Python 3"
    },
    "language_info": {
      "name": "python"
    }
  },
  "cells": [
    {
      "cell_type": "markdown",
      "metadata": {
        "id": "view-in-github",
        "colab_type": "text"
      },
      "source": [
        "<a href=\"https://colab.research.google.com/github/pradipdhale/skillsequel_python_colab/blob/main/Class_Test_1.ipynb\" target=\"_parent\"><img src=\"https://colab.research.google.com/assets/colab-badge.svg\" alt=\"Open In Colab\"/></a>"
      ]
    },
    {
      "cell_type": "code",
      "execution_count": null,
      "metadata": {
        "id": "1UdaUErqBJ_L"
      },
      "outputs": [],
      "source": []
    },
    {
      "cell_type": "markdown",
      "source": [
        "Q.1)Python programming:python is an interpreted, object oriented, high level programming language.\n",
        "Features:\n",
        "i)easy to learn.\n",
        "ii)it is open source.\n",
        "iii)cross platform.\n",
        "iv)high level programming.\n",
        "v)It work on interpreter logic.\n",
        "vi)GUI programming support.\n",
        "vii)it is expressive programming language."
      ],
      "metadata": {
        "id": "teidEBNuBPez"
      }
    },
    {
      "cell_type": "code",
      "source": [
        "#Q.2)Write a program which takes a user defined number and checks whether it is\n",
        "#multiple of 34 or not.\n",
        "\n",
        "num=int(input(\"enter the number:-\"))\n",
        "if num%34==0:\n",
        "  print(\"number is multiple\")\n",
        "else:\n",
        "  print(\"number is not multiple\")"
      ],
      "metadata": {
        "colab": {
          "base_uri": "https://localhost:8080/"
        },
        "id": "2Q3BUV5LCqVq",
        "outputId": "781c53d9-3b29-4468-a940-c1d3d03f8658"
      },
      "execution_count": null,
      "outputs": [
        {
          "output_type": "stream",
          "name": "stdout",
          "text": [
            "enter the number:-34\n",
            "number is multiple\n"
          ]
        }
      ]
    },
    {
      "cell_type": "code",
      "source": [
        "#Q.3)Write a small - small program to show all the basic functions of the String.\n",
        "\n",
        "str1=\"my nAME is pRADip dHAle\"\n",
        "print(str1.lower())\n",
        "print(str1.upper())\n",
        "print(str1.title())\n",
        "print(str1.capitalize())\n",
        "print(str1.find(\"i\"))\n",
        "print(str1.index(\"R\"))"
      ],
      "metadata": {
        "colab": {
          "base_uri": "https://localhost:8080/"
        },
        "id": "-HLBWRROEV2F",
        "outputId": "78dd25a3-4fe7-400f-f7f5-8419112ba29d"
      },
      "execution_count": null,
      "outputs": [
        {
          "output_type": "stream",
          "name": "stdout",
          "text": [
            "my name is pradip dhale\n",
            "MY NAME IS PRADIP DHALE\n",
            "My Name Is Pradip Dhale\n",
            "My name is pradip dhale\n",
            "8\n",
            "12\n"
          ]
        }
      ]
    },
    {
      "cell_type": "code",
      "source": [
        "# Q.4 Write a program which shows the modification in the tuple.\n",
        "\n",
        "tup1=(1,2,3.0,\"pradip\")\n",
        "l1=list(tup1)\n",
        "print(l1)\n",
        "\n",
        "l1[3]=\"python\"\n",
        "print(l1)\n"
      ],
      "metadata": {
        "colab": {
          "base_uri": "https://localhost:8080/"
        },
        "id": "kFvuo5XGGWuh",
        "outputId": "e7ed543f-25f9-417c-e870-8c209c8de595"
      },
      "execution_count": null,
      "outputs": [
        {
          "output_type": "stream",
          "name": "stdout",
          "text": [
            "[1, 2, 3.0, 'pradip']\n",
            "[1, 2, 3.0, 'python']\n"
          ]
        }
      ]
    },
    {
      "cell_type": "code",
      "source": [
        "# Q.5 conversion into tuple to list and list to tuple\n",
        "\n",
        "tup2=(2,3,4,\"pradip\")\n",
        "print(tup2)\n",
        "l2=list(tup2)\n",
        "print(l2)\n",
        "\n",
        "l3=[1,2,3,\"python\"]\n",
        "print(l3)\n",
        "tup3=tuple(l3)\n",
        "print(tup3)\n"
      ],
      "metadata": {
        "colab": {
          "base_uri": "https://localhost:8080/"
        },
        "id": "yjsWjkQgIpYE",
        "outputId": "89434064-4805-4ea5-b254-2ce88bf3ff48"
      },
      "execution_count": null,
      "outputs": [
        {
          "output_type": "stream",
          "name": "stdout",
          "text": [
            "(2, 3, 4, 'pradip')\n",
            "[2, 3, 4, 'pradip']\n",
            "[1, 2, 3, 'python']\n",
            "(1, 2, 3, 'python')\n"
          ]
        }
      ]
    },
    {
      "cell_type": "code",
      "source": [
        "\n",
        "\n"
      ],
      "metadata": {
        "id": "RaPGvkjZJt4j"
      },
      "execution_count": null,
      "outputs": []
    },
    {
      "cell_type": "markdown",
      "source": [
        "# Q.6) list of all the functions of the list\n",
        "\n",
        "i)len()\n",
        "ii)filter()\n",
        "iii)range()\n",
        "iv)sum()\n",
        "v)min()\n",
        "vi)max()\n",
        "vii)sorted()\n",
        "viii)reversed()\n",
        "ix)map()\n",
        "x)filter()\n",
        "xi)all()"
      ],
      "metadata": {
        "id": "-RCUZ5RsKeib"
      }
    },
    {
      "cell_type": "code",
      "source": [
        "# Q.7) Leap year program:\n",
        "\n",
        "year=int(input(\"enter your year:\"))\n",
        "if(year%4==0):\n",
        "  print(\"this year is leap year\")\n",
        "else:\n",
        "  print(\"this is not leap year\")"
      ],
      "metadata": {
        "colab": {
          "base_uri": "https://localhost:8080/"
        },
        "id": "XDlPL0sALUe8",
        "outputId": "c98f0950-374e-4187-fa01-16c9af4a7926"
      },
      "execution_count": null,
      "outputs": [
        {
          "output_type": "stream",
          "name": "stdout",
          "text": [
            "enter your year:2003\n",
            "this is not leap year\n"
          ]
        }
      ]
    },
    {
      "cell_type": "code",
      "source": [
        "# Q.8) Greatest number program:\n",
        "\n",
        "num1=int(input(\"enter first num:-\"))\n",
        "num2=int(input(\"enter second num:-\"))\n",
        "num3=int(input(\"enter third num:-\"))\n",
        "\n",
        "if(num1>num2):\n",
        "  print(\"1st num is greater number\")\n",
        "elif(num2>num3):\n",
        "  print(\"second num is greater number\")\n",
        "elif(num3>num1):\n",
        "  print(\"3rd num is greater number\")\n",
        "else:\n",
        "    print(\"none\")"
      ],
      "metadata": {
        "colab": {
          "base_uri": "https://localhost:8080/"
        },
        "id": "nLAQew5dL0wn",
        "outputId": "0ac40da6-e9a3-4f5c-b062-e1b3ab201100"
      },
      "execution_count": null,
      "outputs": [
        {
          "output_type": "stream",
          "name": "stdout",
          "text": [
            "enter first num:-101\n",
            "enter second num:-104\n",
            "enter third num:-858585\n",
            "3rd num is greater number\n"
          ]
        }
      ]
    }
  ]
}
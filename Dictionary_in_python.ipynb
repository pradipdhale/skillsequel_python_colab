{
  "nbformat": 4,
  "nbformat_minor": 0,
  "metadata": {
    "colab": {
      "provenance": [],
      "authorship_tag": "ABX9TyMPcpDll+ySOw9gC0QjdUvs",
      "include_colab_link": true
    },
    "kernelspec": {
      "name": "python3",
      "display_name": "Python 3"
    },
    "language_info": {
      "name": "python"
    }
  },
  "cells": [
    {
      "cell_type": "markdown",
      "metadata": {
        "id": "view-in-github",
        "colab_type": "text"
      },
      "source": [
        "<a href=\"https://colab.research.google.com/github/pradipdhale/skillsequel_python_colab/blob/main/Dictionary_in_python.ipynb\" target=\"_parent\"><img src=\"https://colab.research.google.com/assets/colab-badge.svg\" alt=\"Open In Colab\"/></a>"
      ]
    },
    {
      "cell_type": "code",
      "execution_count": null,
      "metadata": {
        "colab": {
          "base_uri": "https://localhost:8080/"
        },
        "id": "OcIb7lK05a90",
        "outputId": "b50fff6f-8590-46d3-ca11-7b176f692a89"
      },
      "outputs": [
        {
          "output_type": "stream",
          "name": "stdout",
          "text": [
            "{'Pradip': 1000, 'Neha': 2000, 'Rahul': 3000, 'Komal': 4000} <class 'dict'>\n"
          ]
        },
        {
          "output_type": "execute_result",
          "data": {
            "text/plain": [
              "dict_keys(['Pradip', 'Neha', 'Rahul', 'Komal'])"
            ]
          },
          "metadata": {},
          "execution_count": 4
        }
      ],
      "source": [
        "Dict1={\"Pradip\":1000, \"Neha\":2000, \"Rahul\":3000, \"Komal\":4000}\n",
        "print(Dict1,type(Dict1))\n",
        "Dict1.keys()\n",
        "\n"
      ]
    },
    {
      "cell_type": "code",
      "source": [
        "Dict1.values()"
      ],
      "metadata": {
        "colab": {
          "base_uri": "https://localhost:8080/"
        },
        "id": "Y5kUEwro5xEa",
        "outputId": "7a0f6820-7591-49d5-ba2a-6793fef40f84"
      },
      "execution_count": null,
      "outputs": [
        {
          "output_type": "execute_result",
          "data": {
            "text/plain": [
              "dict_values([1000, 2000, 3000, 4000])"
            ]
          },
          "metadata": {},
          "execution_count": 5
        }
      ]
    },
    {
      "cell_type": "code",
      "source": [
        "Age=int(input(\"enter your age:\"))\n",
        "if (Age>=18):\n",
        "    print(\"you can vote\")\n",
        "else:\n",
        "    print(\"you cannot vote\")"
      ],
      "metadata": {
        "colab": {
          "base_uri": "https://localhost:8080/"
        },
        "id": "F7zHMJVhBfQw",
        "outputId": "6ee3343c-8d4f-40db-989a-d47dfab3ac9e"
      },
      "execution_count": null,
      "outputs": [
        {
          "output_type": "stream",
          "name": "stdout",
          "text": [
            "enter your age:12\n",
            "you cannot vote\n"
          ]
        }
      ]
    }
  ]
}
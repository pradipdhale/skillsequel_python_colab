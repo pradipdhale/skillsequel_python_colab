{
  "nbformat": 4,
  "nbformat_minor": 0,
  "metadata": {
    "colab": {
      "provenance": [],
      "include_colab_link": true
    },
    "kernelspec": {
      "name": "python3",
      "display_name": "Python 3"
    },
    "language_info": {
      "name": "python"
    }
  },
  "cells": [
    {
      "cell_type": "markdown",
      "metadata": {
        "id": "view-in-github",
        "colab_type": "text"
      },
      "source": [
        "<a href=\"https://colab.research.google.com/github/pradipdhale/skillsequel_python_colab/blob/main/Python.ipynb\" target=\"_parent\"><img src=\"https://colab.research.google.com/assets/colab-badge.svg\" alt=\"Open In Colab\"/></a>"
      ]
    },
    {
      "cell_type": "code",
      "execution_count": null,
      "metadata": {
        "colab": {
          "base_uri": "https://localhost:8080/"
        },
        "id": "oq92Hz1HqT_P",
        "outputId": "7e2a08c3-2045-478b-e181-6a3a59b9e0bf"
      },
      "outputs": [
        {
          "output_type": "stream",
          "name": "stdout",
          "text": [
            "Welcome\n"
          ]
        }
      ],
      "source": [
        "print(\"Welcome\")"
      ]
    },
    {
      "cell_type": "code",
      "source": [
        "print(300 + 500)"
      ],
      "metadata": {
        "colab": {
          "base_uri": "https://localhost:8080/"
        },
        "id": "HrDn90d-s9mk",
        "outputId": "dae88f31-b5bb-471d-d827-437e112a8bc3"
      },
      "execution_count": null,
      "outputs": [
        {
          "output_type": "stream",
          "name": "stdout",
          "text": [
            "800\n"
          ]
        }
      ]
    },
    {
      "cell_type": "code",
      "source": [],
      "metadata": {
        "id": "XBMhRPqctFiD"
      },
      "execution_count": null,
      "outputs": []
    },
    {
      "cell_type": "markdown",
      "source": [
        "# Variable and Datatype"
      ],
      "metadata": {
        "id": "WFU1vDEcwF3H"
      }
    },
    {
      "cell_type": "code",
      "source": [
        "# Variables are containers used to store the datavalue\n",
        "# Datatypes are the type of values stored inside container(variable)"
      ],
      "metadata": {
        "id": "riWg62dxwJww"
      },
      "execution_count": null,
      "outputs": []
    },
    {
      "cell_type": "code",
      "source": [
        "# int\n",
        "Value1 = 1000\n",
        "print(Value1)\n",
        "print(type(Value1))"
      ],
      "metadata": {
        "colab": {
          "base_uri": "https://localhost:8080/"
        },
        "id": "qFVAPrDZwoY8",
        "outputId": "ec37d8fd-6a6e-4533-9aca-38c0cf438b85"
      },
      "execution_count": null,
      "outputs": [
        {
          "output_type": "stream",
          "name": "stdout",
          "text": [
            "1000\n",
            "<class 'int'>\n"
          ]
        }
      ]
    },
    {
      "cell_type": "code",
      "source": [
        "# string\n",
        "name1 = \"Python Programming\"\n",
        "print(name1)\n",
        "print(type(name1))"
      ],
      "metadata": {
        "colab": {
          "base_uri": "https://localhost:8080/"
        },
        "id": "EoYfskt4w3pi",
        "outputId": "0b9e0290-e80b-4660-8606-2f06b46895bc"
      },
      "execution_count": null,
      "outputs": [
        {
          "output_type": "stream",
          "name": "stdout",
          "text": [
            "Python Programming\n",
            "<class 'str'>\n"
          ]
        }
      ]
    },
    {
      "cell_type": "code",
      "source": [
        "# float \n",
        "val1 = 50.98\n",
        "print(val1)\n",
        "print(type(val1))"
      ],
      "metadata": {
        "colab": {
          "base_uri": "https://localhost:8080/"
        },
        "id": "oWSNFkkhxAj8",
        "outputId": "7e3b8c7a-dbd6-4843-b1a3-4d107e8e73a5"
      },
      "execution_count": null,
      "outputs": [
        {
          "output_type": "stream",
          "name": "stdout",
          "text": [
            "50.98\n",
            "<class 'float'>\n"
          ]
        }
      ]
    },
    {
      "cell_type": "code",
      "source": [
        "# boolean - True/False\n",
        "\n",
        "var1 = True\n",
        "print(var1)\n",
        "print(type(var1))"
      ],
      "metadata": {
        "colab": {
          "base_uri": "https://localhost:8080/"
        },
        "id": "mivY9d8E08ir",
        "outputId": "671e234f-e031-430e-964f-465d885db710"
      },
      "execution_count": null,
      "outputs": [
        {
          "output_type": "stream",
          "name": "stdout",
          "text": [
            "True\n",
            "<class 'bool'>\n"
          ]
        }
      ]
    },
    {
      "cell_type": "code",
      "source": [
        "# complex type\n",
        "var2 = 500 + 45j\n",
        "print(var2)\n",
        "print(type(var2))"
      ],
      "metadata": {
        "colab": {
          "base_uri": "https://localhost:8080/"
        },
        "id": "2o7B5lI51uYO",
        "outputId": "811cfee0-d0c3-49df-d077-771e8a1d65e7"
      },
      "execution_count": null,
      "outputs": [
        {
          "output_type": "stream",
          "name": "stdout",
          "text": [
            "(500+45j)\n",
            "<class 'complex'>\n"
          ]
        }
      ]
    },
    {
      "cell_type": "markdown",
      "source": [
        "# Operators"
      ],
      "metadata": {
        "id": "6ellfB9W35j6"
      }
    },
    {
      "cell_type": "code",
      "source": [
        "# 1. Assignment Operator\n",
        "a = 500\n",
        "# here = is called assgnment operator"
      ],
      "metadata": {
        "id": "xTm_CX-i2cgC"
      },
      "execution_count": null,
      "outputs": []
    },
    {
      "cell_type": "code",
      "source": [
        "#2. Arithmetric operators\n",
        "a = 15\n",
        "b = 2\n",
        "print(a + b)\n",
        "print(a - b)\n",
        "print(a * b)\n",
        "print(a/b)\n",
        "print(a // b)  # floor division\n",
        "print(a % b) # remainder\n",
        "print(a ** b) # exponent"
      ],
      "metadata": {
        "colab": {
          "base_uri": "https://localhost:8080/"
        },
        "id": "JPAYugEL4AQm",
        "outputId": "6ebced5b-ccb6-4113-979d-67e9699c7c04"
      },
      "execution_count": null,
      "outputs": [
        {
          "output_type": "stream",
          "name": "stdout",
          "text": [
            "17\n",
            "13\n",
            "30\n",
            "7.5\n",
            "7\n",
            "1\n",
            "225\n"
          ]
        }
      ]
    },
    {
      "cell_type": "code",
      "source": [],
      "metadata": {
        "id": "AsJ3mh7z4fjd"
      },
      "execution_count": null,
      "outputs": []
    }
  ]
}